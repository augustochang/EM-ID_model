{
 "cells": [
  {
   "cell_type": "markdown",
   "metadata": {},
   "source": [
    "### Code to connect, acquire and store raw data from red pitaya from both CH1 and CH2 simulatenusly\n",
    "\n",
    "### using config.json for manual device labelling\n",
    "\n",
    "### data stored in data/[device]/[date]/session_000_CH#.csv\n",
    "\n",
    "### author: Augusto"
   ]
  },
  {
   "cell_type": "markdown",
   "metadata": {},
   "source": [
    "# Data Streaming (bigger buffers WAY MORE DATA)\n",
    "### data streaming test\n",
    "\n",
    "go to http://rp-f0b826.local/ > Data Stream Control > Start"
   ]
  },
  {
   "cell_type": "markdown",
   "metadata": {},
   "source": [
    "### data streaming saving into binary files to optimize storage"
   ]
  },
  {
   "cell_type": "code",
   "execution_count": 4,
   "metadata": {},
   "outputs": [
    {
     "name": "stdout",
     "output_type": "stream",
     "text": [
      "Connecting to Red Pitaya at 192.168.8.214:8900\n",
      "Connection successful!\n",
      "Flushing socket buffer...\n",
      "Streaming data for 5 seconds for session 1...\n",
      "Session 1 data saved to /Volumes/One Touch/_data/ipad_on/2024-12-02/session_001.bin\n",
      "Sleeping for 0 seconds...\n",
      "Flushing socket buffer...\n",
      "Streaming data for 5 seconds for session 2...\n",
      "Session 2 data saved to /Volumes/One Touch/_data/ipad_on/2024-12-02/session_002.bin\n",
      "Sleeping for 0 seconds...\n",
      "Flushing socket buffer...\n",
      "Streaming data for 5 seconds for session 3...\n",
      "Session 3 data saved to /Volumes/One Touch/_data/ipad_on/2024-12-02/session_003.bin\n",
      "Sleeping for 0 seconds...\n",
      "Flushing socket buffer...\n",
      "Streaming data for 5 seconds for session 4...\n",
      "Session 4 data saved to /Volumes/One Touch/_data/ipad_on/2024-12-02/session_004.bin\n",
      "Sleeping for 0 seconds...\n",
      "Flushing socket buffer...\n",
      "Streaming data for 5 seconds for session 5...\n",
      "Session 5 data saved to /Volumes/One Touch/_data/ipad_on/2024-12-02/session_005.bin\n",
      "Sleeping for 0 seconds...\n",
      "Flushing socket buffer...\n",
      "Streaming data for 5 seconds for session 6...\n",
      "Session 6 data saved to /Volumes/One Touch/_data/ipad_on/2024-12-02/session_006.bin\n",
      "Sleeping for 0 seconds...\n",
      "Flushing socket buffer...\n",
      "Streaming data for 5 seconds for session 7...\n",
      "Session 7 data saved to /Volumes/One Touch/_data/ipad_on/2024-12-02/session_007.bin\n",
      "Sleeping for 0 seconds...\n",
      "Flushing socket buffer...\n",
      "Streaming data for 5 seconds for session 8...\n",
      "Session 8 data saved to /Volumes/One Touch/_data/ipad_on/2024-12-02/session_008.bin\n",
      "Sleeping for 0 seconds...\n",
      "Flushing socket buffer...\n",
      "Streaming data for 5 seconds for session 9...\n",
      "Session 9 data saved to /Volumes/One Touch/_data/ipad_on/2024-12-02/session_009.bin\n",
      "Sleeping for 0 seconds...\n",
      "Flushing socket buffer...\n",
      "Streaming data for 5 seconds for session 10...\n",
      "Session 10 data saved to /Volumes/One Touch/_data/ipad_on/2024-12-02/session_010.bin\n",
      "Sleeping for 0 seconds...\n",
      "Flushing socket buffer...\n",
      "Streaming data for 5 seconds for session 11...\n",
      "\n",
      "Data collection stopped by user.\n",
      "Socket closed.\n"
     ]
    }
   ],
   "source": [
    "import raw_data_adquisition as adq\n",
    "\n",
    "if __name__ == \"__main__\":\n",
    "    try:\n",
    "        # Load configuration\n",
    "        config = adq.load_config(\"config.json\")\n",
    "        adq.streaming_to_binary(config)\n",
    "    except Exception as e:\n",
    "        print(f\"Error: {e}\")\n"
   ]
  },
  {
   "cell_type": "markdown",
   "metadata": {},
   "source": [
    "#### function that converts it into a csv, just for manual data quality check pursposes"
   ]
  },
  {
   "cell_type": "code",
   "execution_count": 19,
   "metadata": {},
   "outputs": [
    {
     "name": "stdout",
     "output_type": "stream",
     "text": [
      "Converted /Volumes/One Touch/data_test/empty/2024-11-23/session_008.bin to /Volumes/One Touch/data_test/empty/2024-11-23/session_0082.csv successfully.\n"
     ]
    }
   ],
   "source": [
    "import numpy as np\n",
    "import pandas as pd\n",
    "import os\n",
    "\n",
    "def convert_binary_to_csv(binary_filepath, csv_filepath, input_range=20.0, adc_bits=14):\n",
    "    \"\"\"\n",
    "    Convert a binary file with interleaved CH1 and CH2 data to a CSV file.\n",
    "\n",
    "    Parameters:\n",
    "        binary_filepath (str): Path to the binary file.\n",
    "        csv_filepath (str): Path to save the converted CSV file.\n",
    "        input_range (float): Input range of the ADC (default: 20.0 for ±20V with 1:20 divider).\n",
    "        adc_bits (int): Number of ADC bits (default: 14 for Red Pitaya).\n",
    "    \"\"\"\n",
    "    try:\n",
    "        # Read the binary file\n",
    "        with open(binary_filepath, 'rb') as f:\n",
    "            raw_data = f.read()\n",
    "\n",
    "        # Unpack raw binary data into 16-bit signed integers\n",
    "        samples = np.frombuffer(raw_data, dtype=np.int16)\n",
    "\n",
    "        # Split samples into CH1 and CH2\n",
    "        ch1_samples = samples[::2]  # Every other sample for CH1\n",
    "        ch2_samples = samples[1::2]  # Every other sample for CH2\n",
    "\n",
    "        # Convert raw ADC values to voltages\n",
    "        voltage_ch1 = np.array(ch1_samples) * (1.0 / (2**15))  # Assuming 14-bit ADC\n",
    "        voltage_ch2 = np.array(ch2_samples) * (1.0 / (2**15))\n",
    "\n",
    "        # timestamp = datetime.datetime.now().isoformat()\n",
    "\n",
    "        # Create a DataFrame\n",
    "        df = pd.DataFrame({\n",
    "            'voltage_ch1': voltage_ch1,\n",
    "            'voltage_ch2': voltage_ch2,\n",
    "        })\n",
    "\n",
    "        # Save the DataFrame to a CSV file\n",
    "        df.to_csv(csv_filepath, index=False)\n",
    "        print(f\"Converted {binary_filepath} to {csv_filepath} successfully.\")\n",
    "\n",
    "    except Exception as e:\n",
    "        print(f\"Error converting {binary_filepath} to CSV: {e}\")\n",
    "\n",
    "\n",
    "# Example Usage\n",
    "binary_file = \"/Volumes/One Touch/data_test/empty/2024-11-23/session_008.bin\"\n",
    "\n",
    "csv_file = \"/Volumes/One Touch/data_test/empty/2024-11-23/session_0082.csv\"\n",
    "convert_binary_to_csv(binary_file, csv_file)\n",
    "\n"
   ]
  }
 ],
 "metadata": {
  "kernelspec": {
   "display_name": "Python 3",
   "language": "python",
   "name": "python3"
  },
  "language_info": {
   "codemirror_mode": {
    "name": "ipython",
    "version": 3
   },
   "file_extension": ".py",
   "mimetype": "text/x-python",
   "name": "python",
   "nbconvert_exporter": "python",
   "pygments_lexer": "ipython3",
   "version": "3.10.15"
  }
 },
 "nbformat": 4,
 "nbformat_minor": 2
}
